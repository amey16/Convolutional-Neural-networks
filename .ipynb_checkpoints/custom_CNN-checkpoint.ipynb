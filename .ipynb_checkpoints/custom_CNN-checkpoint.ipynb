{
 "cells": [
  {
   "cell_type": "code",
   "execution_count": 2,
   "id": "32514560",
   "metadata": {},
   "outputs": [],
   "source": [
    "import numpy as np\n",
    "import matplotlib.pyplot as plt\n",
    "from pandas import read_csv\n",
    "from sklearn.model_selection import train_test_split\n",
    "\n",
    "import tensorflow.keras\n",
    "from tensorflow.keras.models import Sequential\n",
    "from tensorflow.keras.layers import Conv2D, MaxPool2D, Dense, Flatten, Activation\n",
    "from tensorflow.keras import utils"
   ]
  },
  {
   "cell_type": "code",
   "execution_count": 3,
   "id": "01003ae2",
   "metadata": {},
   "outputs": [],
   "source": [
    "dataset = read_csv('fashion-mnist_test.csv')\n",
    "dataset = dataset.values"
   ]
  },
  {
   "cell_type": "code",
   "execution_count": 4,
   "id": "2f8b8278",
   "metadata": {},
   "outputs": [],
   "source": [
    "X, y = dataset[:, 1:]/255, dataset[:, 0]\n",
    "X_train, X_test, y_train, y_test = train_test_split(X, y, test_size=0.2)"
   ]
  },
  {
   "cell_type": "code",
   "execution_count": 5,
   "id": "a72f91c0",
   "metadata": {},
   "outputs": [],
   "source": [
    "y_train = utils.to_categorical(y_train)\n",
    "y_test  = utils.to_categorical(y_test)"
   ]
  },
  {
   "cell_type": "code",
   "execution_count": 6,
   "id": "623b58a3",
   "metadata": {},
   "outputs": [],
   "source": [
    "X_train, X_test = X_train.reshape((-1,28,28,1)), X_test.reshape((-1,28,28,1))"
   ]
  },
  {
   "cell_type": "code",
   "execution_count": 7,
   "id": "0182c0fd",
   "metadata": {},
   "outputs": [
    {
     "name": "stdout",
     "output_type": "stream",
     "text": [
      "Model: \"sequential\"\n",
      "_________________________________________________________________\n",
      "Layer (type)                 Output Shape              Param #   \n",
      "=================================================================\n",
      "conv2d (Conv2D)              (None, 26, 26, 4)         40        \n",
      "_________________________________________________________________\n",
      "activation (Activation)      (None, 26, 26, 4)         0         \n",
      "_________________________________________________________________\n",
      "max_pooling2d (MaxPooling2D) (None, 13, 13, 4)         0         \n",
      "_________________________________________________________________\n",
      "conv2d_1 (Conv2D)            (None, 11, 11, 8)         296       \n",
      "_________________________________________________________________\n",
      "activation_1 (Activation)    (None, 11, 11, 8)         0         \n",
      "_________________________________________________________________\n",
      "max_pooling2d_1 (MaxPooling2 (None, 5, 5, 8)           0         \n",
      "_________________________________________________________________\n",
      "flatten (Flatten)            (None, 200)               0         \n",
      "_________________________________________________________________\n",
      "dense (Dense)                (None, 100)               20100     \n",
      "_________________________________________________________________\n",
      "dense_1 (Dense)              (None, 10)                1010      \n",
      "_________________________________________________________________\n",
      "activation_2 (Activation)    (None, 10)                0         \n",
      "=================================================================\n",
      "Total params: 21,446\n",
      "Trainable params: 21,446\n",
      "Non-trainable params: 0\n",
      "_________________________________________________________________\n"
     ]
    }
   ],
   "source": [
    "model = Sequential()\n",
    "\n",
    "# Conv1\n",
    "model.add(Conv2D(4, (3,3), input_shape=(28,28,1)))\n",
    "model.add(Activation('relu'))\n",
    "model.add(MaxPool2D((2,2)))\n",
    "\n",
    "# Conv2\n",
    "model.add(Conv2D(8, (3,3)))\n",
    "model.add(Activation('relu'))\n",
    "model.add(MaxPool2D((2,2)))\n",
    "\n",
    "model.add(Flatten())\n",
    "model.add(Dense(100, activation='sigmoid'))\n",
    "# model.add(Activation('sigmoid'))\n",
    "model.add(Dense(10))\n",
    "model.add(Activation('softmax'))\n",
    "\n",
    "model.summary()"
   ]
  },
  {
   "cell_type": "code",
   "execution_count": 8,
   "id": "19d61f71",
   "metadata": {},
   "outputs": [],
   "source": [
    "model.compile(loss='categorical_crossentropy',\n",
    "              optimizer='adam',\n",
    "              metrics=['accuracy'])"
   ]
  },
  {
   "cell_type": "code",
   "execution_count": 9,
   "id": "04be38b8",
   "metadata": {},
   "outputs": [
    {
     "name": "stdout",
     "output_type": "stream",
     "text": [
      "Epoch 1/30\n",
      "63/63 [==============================] - 8s 65ms/step - loss: 1.9934 - accuracy: 0.3738 - val_loss: 1.4207 - val_accuracy: 0.5395\n",
      "Epoch 2/30\n",
      "63/63 [==============================] - 3s 46ms/step - loss: 1.0686 - accuracy: 0.6700 - val_loss: 0.8961 - val_accuracy: 0.7130\n",
      "Epoch 3/30\n",
      "63/63 [==============================] - 3s 47ms/step - loss: 0.7842 - accuracy: 0.7358 - val_loss: 0.7587 - val_accuracy: 0.7400\n",
      "Epoch 4/30\n",
      "63/63 [==============================] - 3s 41ms/step - loss: 0.6844 - accuracy: 0.7580 - val_loss: 0.7010 - val_accuracy: 0.7370\n",
      "Epoch 5/30\n",
      "63/63 [==============================] - 3s 45ms/step - loss: 0.6258 - accuracy: 0.7710 - val_loss: 0.6394 - val_accuracy: 0.7680\n",
      "Epoch 6/30\n",
      "63/63 [==============================] - 3s 44ms/step - loss: 0.5881 - accuracy: 0.7797 - val_loss: 0.6386 - val_accuracy: 0.7595\n",
      "Epoch 7/30\n",
      "63/63 [==============================] - 3s 43ms/step - loss: 0.5659 - accuracy: 0.7862 - val_loss: 0.5897 - val_accuracy: 0.7735\n",
      "Epoch 8/30\n",
      "63/63 [==============================] - 3s 41ms/step - loss: 0.5353 - accuracy: 0.8031 - val_loss: 0.5667 - val_accuracy: 0.7910\n",
      "Epoch 9/30\n",
      "63/63 [==============================] - 3s 41ms/step - loss: 0.5182 - accuracy: 0.8067 - val_loss: 0.5613 - val_accuracy: 0.7900\n",
      "Epoch 10/30\n",
      "63/63 [==============================] - 3s 47ms/step - loss: 0.5003 - accuracy: 0.8133 - val_loss: 0.5511 - val_accuracy: 0.7945\n",
      "Epoch 11/30\n",
      "63/63 [==============================] - 3s 45ms/step - loss: 0.4880 - accuracy: 0.8160 - val_loss: 0.5416 - val_accuracy: 0.7980\n",
      "Epoch 12/30\n",
      "63/63 [==============================] - 3s 46ms/step - loss: 0.4710 - accuracy: 0.8230 - val_loss: 0.5122 - val_accuracy: 0.8135\n",
      "Epoch 13/30\n",
      "63/63 [==============================] - 3s 49ms/step - loss: 0.4596 - accuracy: 0.8300 - val_loss: 0.5093 - val_accuracy: 0.8135\n",
      "Epoch 14/30\n",
      "63/63 [==============================] - 3s 48ms/step - loss: 0.4488 - accuracy: 0.8329 - val_loss: 0.5067 - val_accuracy: 0.8110\n",
      "Epoch 15/30\n",
      "63/63 [==============================] - 3s 42ms/step - loss: 0.4388 - accuracy: 0.8381 - val_loss: 0.5051 - val_accuracy: 0.8080\n",
      "Epoch 16/30\n",
      "63/63 [==============================] - 3s 43ms/step - loss: 0.4316 - accuracy: 0.8395 - val_loss: 0.4921 - val_accuracy: 0.8205\n",
      "Epoch 17/30\n",
      "63/63 [==============================] - 3s 43ms/step - loss: 0.4198 - accuracy: 0.8481 - val_loss: 0.4900 - val_accuracy: 0.8215\n",
      "Epoch 18/30\n",
      "63/63 [==============================] - 3s 44ms/step - loss: 0.4136 - accuracy: 0.8461 - val_loss: 0.4741 - val_accuracy: 0.8285\n",
      "Epoch 19/30\n",
      "63/63 [==============================] - 3s 46ms/step - loss: 0.4002 - accuracy: 0.8545 - val_loss: 0.4702 - val_accuracy: 0.8285\n",
      "Epoch 20/30\n",
      "63/63 [==============================] - 3s 45ms/step - loss: 0.3945 - accuracy: 0.8551 - val_loss: 0.4655 - val_accuracy: 0.8330\n",
      "Epoch 21/30\n",
      "63/63 [==============================] - 3s 41ms/step - loss: 0.3934 - accuracy: 0.8518 - val_loss: 0.4572 - val_accuracy: 0.8320\n",
      "Epoch 22/30\n",
      "63/63 [==============================] - 3s 44ms/step - loss: 0.3846 - accuracy: 0.8597 - val_loss: 0.4637 - val_accuracy: 0.8350\n",
      "Epoch 23/30\n",
      "63/63 [==============================] - 3s 42ms/step - loss: 0.3754 - accuracy: 0.8644 - val_loss: 0.4588 - val_accuracy: 0.8385\n",
      "Epoch 24/30\n",
      "63/63 [==============================] - 3s 44ms/step - loss: 0.3718 - accuracy: 0.8626 - val_loss: 0.4531 - val_accuracy: 0.8340\n",
      "Epoch 25/30\n",
      "63/63 [==============================] - 3s 44ms/step - loss: 0.3620 - accuracy: 0.8694 - val_loss: 0.4566 - val_accuracy: 0.8365\n",
      "Epoch 26/30\n",
      "63/63 [==============================] - 3s 43ms/step - loss: 0.3613 - accuracy: 0.8679 - val_loss: 0.4526 - val_accuracy: 0.8450\n",
      "Epoch 27/30\n",
      "63/63 [==============================] - 3s 42ms/step - loss: 0.3484 - accuracy: 0.8729 - val_loss: 0.4429 - val_accuracy: 0.8475\n",
      "Epoch 28/30\n",
      "63/63 [==============================] - 3s 44ms/step - loss: 0.3465 - accuracy: 0.8716 - val_loss: 0.4426 - val_accuracy: 0.8465\n",
      "Epoch 29/30\n",
      "63/63 [==============================] - 3s 44ms/step - loss: 0.3412 - accuracy: 0.8739 - val_loss: 0.4389 - val_accuracy: 0.8465\n",
      "Epoch 30/30\n",
      "63/63 [==============================] - 3s 46ms/step - loss: 0.3382 - accuracy: 0.8761 - val_loss: 0.4387 - val_accuracy: 0.8505\n"
     ]
    }
   ],
   "source": [
    "hist = model.fit(X_train, y_train,\n",
    "          shuffle=True,\n",
    "          batch_size=128,\n",
    "          epochs=30,\n",
    "          validation_data=(X_test, y_test)\n",
    "         )"
   ]
  },
  {
   "cell_type": "code",
   "execution_count": 10,
   "id": "57a85001",
   "metadata": {},
   "outputs": [
    {
     "data": {
      "image/png": "[encoded data removed]",
      "text/plain": [
       "<Figure size 432x288 with 1 Axes>"
      ]
     },
     "metadata": {
      "needs_background": "light"
     },
     "output_type": "display_data"
    },
    {
     "data": {
      "image/png": "[encoded data removed]",
      "text/plain": [
       "<Figure size 432x288 with 1 Axes>"
      ]
     },
     "metadata": {
      "needs_background": "light"
     },
     "output_type": "display_data"
    }
   ],
   "source": [
    "\n",
    "plt.figure(0)\n",
    "plt.title(\"Loss\")\n",
    "plt.plot(hist.history['loss'], 'r', label='Training')\n",
    "plt.plot(hist.history['val_loss'], 'b', label='Testing')\n",
    "plt.legend()\n",
    "plt.show()\n",
    "\n",
    "plt.figure(1)\n",
    "plt.title(\"Accuracy\")\n",
    "plt.plot(hist.history['accuracy'], 'r', label='Training')\n",
    "plt.plot(hist.history['val_accuracy'], 'b', label='Testing')\n",
    "plt.legend()\n",
    "plt.show()"
   ]
  },
  {
   "cell_type": "code",
   "execution_count": null,
   "id": "e74a4a5c",
   "metadata": {},
   "outputs": [],
   "source": []
  }
 ],
 "metadata": {
  "kernelspec": {
   "display_name": "Python 3",
   "language": "python",
   "name": "python3"
  },
  "language_info": {
   "codemirror_mode": {
    "name": "ipython",
    "version": 3
   },
   "file_extension": ".py",
   "mimetype": "text/x-python",
   "name": "python",
   "nbconvert_exporter": "python",
   "pygments_lexer": "ipython3",
   "version": "3.9.1"
  }
 },
 "nbformat": 4,
 "nbformat_minor": 5
}
